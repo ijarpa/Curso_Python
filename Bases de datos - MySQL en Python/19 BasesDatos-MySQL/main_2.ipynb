{
 "cells": [
  {
   "cell_type": "code",
   "execution_count": 1,
   "metadata": {},
   "outputs": [],
   "source": [
    "import mysql.connector\n",
    "import pandas as pd"
   ]
  },
  {
   "cell_type": "code",
   "execution_count": 2,
   "metadata": {},
   "outputs": [],
   "source": [
    "database = mysql.connector.connect(\n",
    "    host=\"localhost\",\n",
    "    user=\"root\",\n",
    "    passwd=\"\",\n",
    "    database=\"master_python\"\n",
    ")"
   ]
  },
  {
   "cell_type": "code",
   "execution_count": 3,
   "metadata": {},
   "outputs": [],
   "source": [
    "cursor = database.cursor()"
   ]
  },
  {
   "cell_type": "code",
   "execution_count": 4,
   "metadata": {},
   "outputs": [
    {
     "name": "stdout",
     "output_type": "stream",
     "text": [
      "('information_schema',)\n",
      "('master_python',)\n",
      "('mysql',)\n",
      "('performance_schema',)\n",
      "('sys',)\n"
     ]
    }
   ],
   "source": [
    "cursor.execute(\"SHOW DATABASES\")\n",
    "\n",
    "for x in cursor:\n",
    "    print(x)"
   ]
  },
  {
   "cell_type": "code",
   "execution_count": 5,
   "metadata": {},
   "outputs": [],
   "source": [
    "#crear tablas\n",
    "cursor.execute(\"\"\"\n",
    "CREATE TABLE IF NOT EXISTS vehiculos_notebook(\n",
    "    id int(10) auto_increment not null,\n",
    "    marca varchar(40) not null,\n",
    "    modelo varchar(40) not null,\n",
    "    precio float(10, 2) not null,\n",
    "    CONSTRAINT pk_vehiculo PRIMARY KEY(id)\n",
    ")\"\"\"\n",
    ")"
   ]
  },
  {
   "cell_type": "code",
   "execution_count": 6,
   "metadata": {},
   "outputs": [
    {
     "name": "stdout",
     "output_type": "stream",
     "text": [
      "('pupils',)\n",
      "('vehiculos',)\n",
      "('vehiculos_notebook',)\n"
     ]
    }
   ],
   "source": [
    "cursor.execute(\"SHOW TABLES\")\n",
    "\n",
    "for table in cursor:\n",
    "    print(table)"
   ]
  },
  {
   "cell_type": "code",
   "execution_count": 7,
   "metadata": {},
   "outputs": [],
   "source": [
    "cursor.execute(\"INSERT INTO vehiculos_notebook VALUES (null, 'Opel', 'Astra', 18500)\")\n",
    "database.commit()"
   ]
  },
  {
   "cell_type": "code",
   "execution_count": 8,
   "metadata": {},
   "outputs": [],
   "source": [
    "Autos = [\n",
    "    ('Seat', 'Ibiza', 5000),\n",
    "    ('Mercedez', 'A2', 50000),\n",
    "    ('Hyundai', 'Accent', 15000),\n",
    "    ('Toyota', 'Hilux', 35000),\n",
    "    ('Chery', 'Tiggo', 15000)\n",
    "]\n",
    "\n",
    "cursor.executemany(\"INSERT INTO vehiculos_notebook VALUES (null, %s, %s, %s)\", Autos)\n",
    "database.commit()"
   ]
  },
  {
   "attachments": {},
   "cell_type": "markdown",
   "metadata": {},
   "source": [
    "#### Insertar datos a la base de datos desde un csv"
   ]
  },
  {
   "cell_type": "code",
   "execution_count": 9,
   "metadata": {},
   "outputs": [
    {
     "data": {
      "text/html": [
       "<div>\n",
       "<style scoped>\n",
       "    .dataframe tbody tr th:only-of-type {\n",
       "        vertical-align: middle;\n",
       "    }\n",
       "\n",
       "    .dataframe tbody tr th {\n",
       "        vertical-align: top;\n",
       "    }\n",
       "\n",
       "    .dataframe thead th {\n",
       "        text-align: right;\n",
       "    }\n",
       "</style>\n",
       "<table border=\"1\" class=\"dataframe\">\n",
       "  <thead>\n",
       "    <tr style=\"text-align: right;\">\n",
       "      <th></th>\n",
       "      <th>givenName</th>\n",
       "      <th>surname</th>\n",
       "      <th>birthdate</th>\n",
       "    </tr>\n",
       "  </thead>\n",
       "  <tbody>\n",
       "    <tr>\n",
       "      <th>0</th>\n",
       "      <td>Gavin</td>\n",
       "      <td>Tyra</td>\n",
       "      <td>2012-11-25</td>\n",
       "    </tr>\n",
       "    <tr>\n",
       "      <th>1</th>\n",
       "      <td>Zachary</td>\n",
       "      <td>Danso</td>\n",
       "      <td>2009-08-17</td>\n",
       "    </tr>\n",
       "    <tr>\n",
       "      <th>2</th>\n",
       "      <td>Ethan</td>\n",
       "      <td>Balls</td>\n",
       "      <td>2014-07-06</td>\n",
       "    </tr>\n",
       "    <tr>\n",
       "      <th>3</th>\n",
       "      <td>Justin</td>\n",
       "      <td>Otis</td>\n",
       "      <td>2012-12-25</td>\n",
       "    </tr>\n",
       "    <tr>\n",
       "      <th>4</th>\n",
       "      <td>Mitchel</td>\n",
       "      <td>Elliott</td>\n",
       "      <td>2010-01-03</td>\n",
       "    </tr>\n",
       "  </tbody>\n",
       "</table>\n",
       "</div>"
      ],
      "text/plain": [
       "  givenName  surname   birthdate\n",
       "0     Gavin     Tyra  2012-11-25\n",
       "1   Zachary    Danso  2009-08-17\n",
       "2     Ethan    Balls  2014-07-06\n",
       "3    Justin     Otis  2012-12-25\n",
       "4   Mitchel  Elliott  2010-01-03"
      ]
     },
     "execution_count": 9,
     "metadata": {},
     "output_type": "execute_result"
    }
   ],
   "source": [
    "df = pd.read_csv('./pupils.csv')\n",
    "df.head()"
   ]
  },
  {
   "cell_type": "code",
   "execution_count": 10,
   "metadata": {},
   "outputs": [],
   "source": [
    "#crear tablas\n",
    "cursor.execute(\"\"\"\n",
    "CREATE TABLE IF NOT EXISTS pupils(\n",
    "    id int(10) auto_increment not null,\n",
    "    Nombre varchar(40) not null,\n",
    "    Apellido varchar(40) not null,\n",
    "    Fecha_Nacimiento DATE DEFAULT NULL,\n",
    "    CONSTRAINT pk_pupils PRIMARY KEY(id)\n",
    ")\"\"\"\n",
    ")"
   ]
  },
  {
   "cell_type": "code",
   "execution_count": 11,
   "metadata": {},
   "outputs": [],
   "source": [
    "data = [tuple(x) for x in df.to_numpy()]"
   ]
  },
  {
   "cell_type": "code",
   "execution_count": 12,
   "metadata": {},
   "outputs": [],
   "source": [
    "\n",
    "load = \"INSERT INTO pupils (Nombre, Apellido, Fecha_Nacimiento) VALUES (%s, %s, %s)\"\n",
    "\n",
    "cursor.executemany(load, data)\n",
    "database.commit()\n"
   ]
  }
 ],
 "metadata": {
  "kernelspec": {
   "display_name": "base",
   "language": "python",
   "name": "python3"
  },
  "language_info": {
   "codemirror_mode": {
    "name": "ipython",
    "version": 3
   },
   "file_extension": ".py",
   "mimetype": "text/x-python",
   "name": "python",
   "nbconvert_exporter": "python",
   "pygments_lexer": "ipython3",
   "version": "3.9.13"
  },
  "orig_nbformat": 4,
  "vscode": {
   "interpreter": {
    "hash": "ad2bdc8ecc057115af97d19610ffacc2b4e99fae6737bb82f5d7fb13d2f2c186"
   }
  }
 },
 "nbformat": 4,
 "nbformat_minor": 2
}
